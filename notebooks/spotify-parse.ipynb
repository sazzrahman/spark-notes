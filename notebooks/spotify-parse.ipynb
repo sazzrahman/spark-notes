{
 "cells": [
  {
   "cell_type": "code",
   "execution_count": 44,
   "id": "520907e5",
   "metadata": {},
   "outputs": [],
   "source": [
    "# import essential spark dependencies\n",
    "\n",
    "from pyspark.sql.functions import col, first, udf, explode, collect_set, countDistinct, lit\n",
    "from pyspark.sql import SparkSession"
   ]
  },
  {
   "cell_type": "code",
   "execution_count": 2,
   "id": "aa48ccf2",
   "metadata": {},
   "outputs": [
    {
     "name": "stderr",
     "output_type": "stream",
     "text": [
      "22/12/23 03:50:58 WARN NativeCodeLoader: Unable to load native-hadoop library for your platform... using builtin-java classes where applicable\n",
      "Using Spark's default log4j profile: org/apache/spark/log4j-defaults.properties\n",
      "Setting default log level to \"WARN\".\n",
      "To adjust logging level use sc.setLogLevel(newLevel). For SparkR, use setLogLevel(newLevel).\n"
     ]
    }
   ],
   "source": [
    "# build spark session\n",
    "spark = SparkSession.builder.appName(\"spotify\").getOrCreate()"
   ]
  },
  {
   "cell_type": "code",
   "execution_count": 41,
   "id": "d49093b7",
   "metadata": {},
   "outputs": [
    {
     "name": "stderr",
     "output_type": "stream",
     "text": [
      "                                                                                \r"
     ]
    }
   ],
   "source": [
    "# reading as a DataFrame\n",
    "df = spark.read\\\n",
    "          .option(\"multiline\",\"true\") \\\n",
    "          .json(\"../data/spotify/\")"
   ]
  },
  {
   "cell_type": "code",
   "execution_count": 43,
   "id": "2766c884",
   "metadata": {},
   "outputs": [
    {
     "name": "stdout",
     "output_type": "stream",
     "text": [
      "+-------------+--------------------+--------------------+----------+--------------------+--------------------+--------------------+--------------------+--------------------+-------------+------+--------------------+--------------------+--------+--------------------+\n",
      "|collaborative|         description|       external_urls| followers|                href|                  id|              images|                name|               owner|primary_color|public|         snapshot_id|              tracks|    type|                 uri|\n",
      "+-------------+--------------------+--------------------+----------+--------------------+--------------------+--------------------+--------------------+--------------------+-------------+------+--------------------+--------------------+--------+--------------------+\n",
      "|        false|Running Music Hit...|[https://open.spo...|[, 160152]|https://api.spoti...|5MLyX3xiNllq052Fs...|[[, https://i.scd...|Jogging Music 202...|[LoudKult, [https...|         null|  true|MTc1NCwxZGFiMjFhY...|[https://api.spot...|playlist|spotify:playlist:...|\n",
      "|        false|Chill to the fami...|[https://open.spo...|[, 339100]|https://api.spoti...|37i9dQZF1DX6K3W8K...|[[, https://i.scd...|Classical Moments...|[Spotify, [https:...|      #ffffff|  true|MTY2Mzc0ODk1OCwwM...|[https://api.spot...|playlist|spotify:playlist:...|\n",
      "|        false|A more than 40 ye...|[https://open.spo...| [, 57208]|https://api.spoti...|37i9dQZF1DX2SiqF4...|[[, https://i.scd...|        808 Classics|[Spotify, [https:...|      #ffffff| false|MTYzNTI1NjEyOSwwM...|[https://api.spot...|playlist|spotify:playlist:...|\n",
      "+-------------+--------------------+--------------------+----------+--------------------+--------------------+--------------------+--------------------+--------------------+-------------+------+--------------------+--------------------+--------+--------------------+\n",
      "\n"
     ]
    }
   ],
   "source": [
    "df.show()"
   ]
  },
  {
   "cell_type": "code",
   "execution_count": 46,
   "id": "fba16fb1",
   "metadata": {},
   "outputs": [
    {
     "name": "stdout",
     "output_type": "stream",
     "text": [
      "root\n",
      " |-- collaborative: boolean (nullable = true)\n",
      " |-- description: string (nullable = true)\n",
      " |-- external_urls: struct (nullable = true)\n",
      " |    |-- spotify: string (nullable = true)\n",
      " |-- followers: struct (nullable = true)\n",
      " |    |-- href: string (nullable = true)\n",
      " |    |-- total: long (nullable = true)\n",
      " |-- href: string (nullable = true)\n",
      " |-- id: string (nullable = true)\n",
      " |-- images: array (nullable = true)\n",
      " |    |-- element: struct (containsNull = true)\n",
      " |    |    |-- height: string (nullable = true)\n",
      " |    |    |-- url: string (nullable = true)\n",
      " |    |    |-- width: string (nullable = true)\n",
      " |-- name: string (nullable = true)\n",
      " |-- owner: struct (nullable = true)\n",
      " |    |-- display_name: string (nullable = true)\n",
      " |    |-- external_urls: struct (nullable = true)\n",
      " |    |    |-- spotify: string (nullable = true)\n",
      " |    |-- href: string (nullable = true)\n",
      " |    |-- id: string (nullable = true)\n",
      " |    |-- type: string (nullable = true)\n",
      " |    |-- uri: string (nullable = true)\n",
      " |-- primary_color: string (nullable = true)\n",
      " |-- public: boolean (nullable = true)\n",
      " |-- snapshot_id: string (nullable = true)\n",
      " |-- tracks: struct (nullable = true)\n",
      " |    |-- href: string (nullable = true)\n",
      " |    |-- items: array (nullable = true)\n",
      " |    |    |-- element: struct (containsNull = true)\n",
      " |    |    |    |-- added_at: timestamp (nullable = true)\n",
      " |    |    |    |-- added_by: struct (nullable = true)\n",
      " |    |    |    |    |-- external_urls: struct (nullable = true)\n",
      " |    |    |    |    |    |-- spotify: string (nullable = true)\n",
      " |    |    |    |    |-- href: string (nullable = true)\n",
      " |    |    |    |    |-- id: string (nullable = true)\n",
      " |    |    |    |    |-- type: string (nullable = true)\n",
      " |    |    |    |    |-- uri: string (nullable = true)\n",
      " |    |    |    |-- is_local: boolean (nullable = true)\n",
      " |    |    |    |-- primary_color: string (nullable = true)\n",
      " |    |    |    |-- track: struct (nullable = true)\n",
      " |    |    |    |    |-- album: struct (nullable = true)\n",
      " |    |    |    |    |    |-- album_type: string (nullable = true)\n",
      " |    |    |    |    |    |-- artists: array (nullable = true)\n",
      " |    |    |    |    |    |    |-- element: struct (containsNull = true)\n",
      " |    |    |    |    |    |    |    |-- external_urls: struct (nullable = true)\n",
      " |    |    |    |    |    |    |    |    |-- spotify: string (nullable = true)\n",
      " |    |    |    |    |    |    |    |-- href: string (nullable = true)\n",
      " |    |    |    |    |    |    |    |-- id: string (nullable = true)\n",
      " |    |    |    |    |    |    |    |-- name: string (nullable = true)\n",
      " |    |    |    |    |    |    |    |-- type: string (nullable = true)\n",
      " |    |    |    |    |    |    |    |-- uri: string (nullable = true)\n",
      " |    |    |    |    |    |-- available_markets: array (nullable = true)\n",
      " |    |    |    |    |    |    |-- element: string (containsNull = true)\n",
      " |    |    |    |    |    |-- external_urls: struct (nullable = true)\n",
      " |    |    |    |    |    |    |-- spotify: string (nullable = true)\n",
      " |    |    |    |    |    |-- href: string (nullable = true)\n",
      " |    |    |    |    |    |-- id: string (nullable = true)\n",
      " |    |    |    |    |    |-- images: array (nullable = true)\n",
      " |    |    |    |    |    |    |-- element: struct (containsNull = true)\n",
      " |    |    |    |    |    |    |    |-- height: long (nullable = true)\n",
      " |    |    |    |    |    |    |    |-- url: string (nullable = true)\n",
      " |    |    |    |    |    |    |    |-- width: long (nullable = true)\n",
      " |    |    |    |    |    |-- name: string (nullable = true)\n",
      " |    |    |    |    |    |-- release_date: string (nullable = true)\n",
      " |    |    |    |    |    |-- release_date_precision: string (nullable = true)\n",
      " |    |    |    |    |    |-- total_tracks: long (nullable = true)\n",
      " |    |    |    |    |    |-- type: string (nullable = true)\n",
      " |    |    |    |    |    |-- uri: string (nullable = true)\n",
      " |    |    |    |    |-- artists: array (nullable = true)\n",
      " |    |    |    |    |    |-- element: struct (containsNull = true)\n",
      " |    |    |    |    |    |    |-- external_urls: struct (nullable = true)\n",
      " |    |    |    |    |    |    |    |-- spotify: string (nullable = true)\n",
      " |    |    |    |    |    |    |-- href: string (nullable = true)\n",
      " |    |    |    |    |    |    |-- id: string (nullable = true)\n",
      " |    |    |    |    |    |    |-- name: string (nullable = true)\n",
      " |    |    |    |    |    |    |-- type: string (nullable = true)\n",
      " |    |    |    |    |    |    |-- uri: string (nullable = true)\n",
      " |    |    |    |    |-- available_markets: array (nullable = true)\n",
      " |    |    |    |    |    |-- element: string (containsNull = true)\n",
      " |    |    |    |    |-- disc_number: long (nullable = true)\n",
      " |    |    |    |    |-- duration_ms: long (nullable = true)\n",
      " |    |    |    |    |-- episode: boolean (nullable = true)\n",
      " |    |    |    |    |-- explicit: boolean (nullable = true)\n",
      " |    |    |    |    |-- external_ids: struct (nullable = true)\n",
      " |    |    |    |    |    |-- isrc: string (nullable = true)\n",
      " |    |    |    |    |-- external_urls: struct (nullable = true)\n",
      " |    |    |    |    |    |-- spotify: string (nullable = true)\n",
      " |    |    |    |    |-- href: string (nullable = true)\n",
      " |    |    |    |    |-- id: string (nullable = true)\n",
      " |    |    |    |    |-- is_local: boolean (nullable = true)\n",
      " |    |    |    |    |-- name: string (nullable = true)\n",
      " |    |    |    |    |-- popularity: long (nullable = true)\n",
      " |    |    |    |    |-- preview_url: string (nullable = true)\n",
      " |    |    |    |    |-- track: boolean (nullable = true)\n",
      " |    |    |    |    |-- track_number: long (nullable = true)\n",
      " |    |    |    |    |-- type: string (nullable = true)\n",
      " |    |    |    |    |-- uri: string (nullable = true)\n",
      " |    |    |    |-- video_thumbnail: struct (nullable = true)\n",
      " |    |    |    |    |-- url: string (nullable = true)\n",
      " |    |-- limit: long (nullable = true)\n",
      " |    |-- next: string (nullable = true)\n",
      " |    |-- offset: long (nullable = true)\n",
      " |    |-- previous: string (nullable = true)\n",
      " |    |-- total: long (nullable = true)\n",
      " |-- type: string (nullable = true)\n",
      " |-- uri: string (nullable = true)\n",
      "\n"
     ]
    }
   ],
   "source": [
    "df.printSchema()"
   ]
  },
  {
   "cell_type": "code",
   "execution_count": 72,
   "id": "6b736c44",
   "metadata": {},
   "outputs": [],
   "source": [
    "# fetch tracks info\n",
    "# id is carried from the root to later join the table\n",
    "\n",
    "tracks = df.select(\"id\",\"tracks.*\").select(\"id\",explode(col(\"items\")).alias(\"items\")).select(\"id\",\"items.*\")\n"
   ]
  },
  {
   "cell_type": "code",
   "execution_count": 74,
   "id": "16413166",
   "metadata": {},
   "outputs": [
    {
     "name": "stdout",
     "output_type": "stream",
     "text": [
      "root\n",
      " |-- id: string (nullable = true)\n",
      " |-- added_at: timestamp (nullable = true)\n",
      " |-- added_by: struct (nullable = true)\n",
      " |    |-- external_urls: struct (nullable = true)\n",
      " |    |    |-- spotify: string (nullable = true)\n",
      " |    |-- href: string (nullable = true)\n",
      " |    |-- id: string (nullable = true)\n",
      " |    |-- type: string (nullable = true)\n",
      " |    |-- uri: string (nullable = true)\n",
      " |-- is_local: boolean (nullable = true)\n",
      " |-- primary_color: string (nullable = true)\n",
      " |-- track: struct (nullable = true)\n",
      " |    |-- album: struct (nullable = true)\n",
      " |    |    |-- album_type: string (nullable = true)\n",
      " |    |    |-- artists: array (nullable = true)\n",
      " |    |    |    |-- element: struct (containsNull = true)\n",
      " |    |    |    |    |-- external_urls: struct (nullable = true)\n",
      " |    |    |    |    |    |-- spotify: string (nullable = true)\n",
      " |    |    |    |    |-- href: string (nullable = true)\n",
      " |    |    |    |    |-- id: string (nullable = true)\n",
      " |    |    |    |    |-- name: string (nullable = true)\n",
      " |    |    |    |    |-- type: string (nullable = true)\n",
      " |    |    |    |    |-- uri: string (nullable = true)\n",
      " |    |    |-- available_markets: array (nullable = true)\n",
      " |    |    |    |-- element: string (containsNull = true)\n",
      " |    |    |-- external_urls: struct (nullable = true)\n",
      " |    |    |    |-- spotify: string (nullable = true)\n",
      " |    |    |-- href: string (nullable = true)\n",
      " |    |    |-- id: string (nullable = true)\n",
      " |    |    |-- images: array (nullable = true)\n",
      " |    |    |    |-- element: struct (containsNull = true)\n",
      " |    |    |    |    |-- height: long (nullable = true)\n",
      " |    |    |    |    |-- url: string (nullable = true)\n",
      " |    |    |    |    |-- width: long (nullable = true)\n",
      " |    |    |-- name: string (nullable = true)\n",
      " |    |    |-- release_date: string (nullable = true)\n",
      " |    |    |-- release_date_precision: string (nullable = true)\n",
      " |    |    |-- total_tracks: long (nullable = true)\n",
      " |    |    |-- type: string (nullable = true)\n",
      " |    |    |-- uri: string (nullable = true)\n",
      " |    |-- artists: array (nullable = true)\n",
      " |    |    |-- element: struct (containsNull = true)\n",
      " |    |    |    |-- external_urls: struct (nullable = true)\n",
      " |    |    |    |    |-- spotify: string (nullable = true)\n",
      " |    |    |    |-- href: string (nullable = true)\n",
      " |    |    |    |-- id: string (nullable = true)\n",
      " |    |    |    |-- name: string (nullable = true)\n",
      " |    |    |    |-- type: string (nullable = true)\n",
      " |    |    |    |-- uri: string (nullable = true)\n",
      " |    |-- available_markets: array (nullable = true)\n",
      " |    |    |-- element: string (containsNull = true)\n",
      " |    |-- disc_number: long (nullable = true)\n",
      " |    |-- duration_ms: long (nullable = true)\n",
      " |    |-- episode: boolean (nullable = true)\n",
      " |    |-- explicit: boolean (nullable = true)\n",
      " |    |-- external_ids: struct (nullable = true)\n",
      " |    |    |-- isrc: string (nullable = true)\n",
      " |    |-- external_urls: struct (nullable = true)\n",
      " |    |    |-- spotify: string (nullable = true)\n",
      " |    |-- href: string (nullable = true)\n",
      " |    |-- id: string (nullable = true)\n",
      " |    |-- is_local: boolean (nullable = true)\n",
      " |    |-- name: string (nullable = true)\n",
      " |    |-- popularity: long (nullable = true)\n",
      " |    |-- preview_url: string (nullable = true)\n",
      " |    |-- track: boolean (nullable = true)\n",
      " |    |-- track_number: long (nullable = true)\n",
      " |    |-- type: string (nullable = true)\n",
      " |    |-- uri: string (nullable = true)\n",
      " |-- video_thumbnail: struct (nullable = true)\n",
      " |    |-- url: string (nullable = true)\n",
      "\n"
     ]
    }
   ],
   "source": [
    "tracks.printSchema()"
   ]
  }
 ],
 "metadata": {
  "kernelspec": {
   "display_name": "Python 3 (ipykernel)",
   "language": "python",
   "name": "python3"
  },
  "language_info": {
   "codemirror_mode": {
    "name": "ipython",
    "version": 3
   },
   "file_extension": ".py",
   "mimetype": "text/x-python",
   "name": "python",
   "nbconvert_exporter": "python",
   "pygments_lexer": "ipython3",
   "version": "3.9.2"
  }
 },
 "nbformat": 4,
 "nbformat_minor": 5
}
